{
 "cells": [
  {
   "cell_type": "code",
   "execution_count": 3,
   "id": "923e27cd",
   "metadata": {},
   "outputs": [
    {
     "name": "stdout",
     "output_type": "stream",
     "text": [
      "PYTHON\n",
      "programming\n",
      "Python\n",
      "Programming\n"
     ]
    }
   ],
   "source": [
    "x=\"PYTHON\"\n",
    "y='programming'\n",
    "print(x)\n",
    "print(y)\n",
    "print(x.title())\n",
    "print(y.title())"
   ]
  },
  {
   "cell_type": "code",
   "execution_count": null,
   "id": "1bf6a748",
   "metadata": {},
   "outputs": [],
   "source": []
  }
 ],
 "metadata": {
  "kernelspec": {
   "display_name": "Python 3 (ipykernel)",
   "language": "python",
   "name": "python3"
  },
  "language_info": {
   "codemirror_mode": {
    "name": "ipython",
    "version": 3
   },
   "file_extension": ".py",
   "mimetype": "text/x-python",
   "name": "python",
   "nbconvert_exporter": "python",
   "pygments_lexer": "ipython3",
   "version": "3.11.5"
  }
 },
 "nbformat": 4,
 "nbformat_minor": 5
}
