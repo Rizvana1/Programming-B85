{
 "cells": [
  {
   "cell_type": "code",
   "execution_count": 9,
   "id": "550d2739",
   "metadata": {},
   "outputs": [
    {
     "name": "stdout",
     "output_type": "stream",
     "text": [
      "Amila Mathew\n",
      "Thank you for joining,Amila Mathew\n",
      "fav_language\n",
      "\tpython\n",
      "\tc++\n",
      "\tSQL\n"
     ]
    }
   ],
   "source": [
    "firstname=\" amila\"\n",
    "lastname=\"mathew  \"\n",
    "fullname=(f\"{firstname.lstrip()} {lastname.rstrip()}\")\n",
    "print(fullname.title())\n",
    "message=(f\"Thank you for joining,{fullname.title()}\")\n",
    "print(message)\n",
    "print(\"fav_language\\n\\tpython\\n\\tc++\\n\\tSQL\")\n"
   ]
  },
  {
   "cell_type": "code",
   "execution_count": null,
   "id": "9f9d002e",
   "metadata": {},
   "outputs": [],
   "source": []
  },
  {
   "cell_type": "code",
   "execution_count": null,
   "id": "f70ad262",
   "metadata": {},
   "outputs": [],
   "source": []
  },
  {
   "cell_type": "code",
   "execution_count": null,
   "id": "5176e878",
   "metadata": {},
   "outputs": [],
   "source": []
  },
  {
   "cell_type": "code",
   "execution_count": null,
   "id": "94f1b26a",
   "metadata": {},
   "outputs": [],
   "source": []
  }
 ],
 "metadata": {
  "kernelspec": {
   "display_name": "Python 3 (ipykernel)",
   "language": "python",
   "name": "python3"
  },
  "language_info": {
   "codemirror_mode": {
    "name": "ipython",
    "version": 3
   },
   "file_extension": ".py",
   "mimetype": "text/x-python",
   "name": "python",
   "nbconvert_exporter": "python",
   "pygments_lexer": "ipython3",
   "version": "3.11.5"
  }
 },
 "nbformat": 4,
 "nbformat_minor": 5
}
