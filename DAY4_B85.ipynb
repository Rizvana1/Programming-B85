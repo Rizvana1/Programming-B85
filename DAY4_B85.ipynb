{
 "cells": [
  {
   "cell_type": "code",
   "execution_count": 11,
   "id": "0f3ee63b",
   "metadata": {},
   "outputs": [
    {
     "name": "stdout",
     "output_type": "stream",
     "text": [
      "['anjali', 'rahul', 'ridhima', 'komal']\n",
      "Komal\n",
      "RAHUL\n",
      "['anjali', 'rahul', 'kumar', 'ridhima', 'komal']\n",
      "['anjali', 'kumar', 'ridhima', 'komal']\n",
      "['anjali', 'kumar', 'ridhima', 'gaurav']\n"
     ]
    }
   ],
   "source": [
    "student=['anjali','rahul','ridhima','komal']\n",
    "print(student)\n",
    "print(student[3].title())\n",
    "print(student[1].upper())\n",
    "student.insert(2,'kumar')\n",
    "print(student)\n",
    "del student[1]\n",
    "print(student)\n",
    "student[3]='gaurav'\n",
    "print(student)"
   ]
  },
  {
   "cell_type": "code",
   "execution_count": null,
   "id": "c3b9e7c1",
   "metadata": {},
   "outputs": [],
   "source": []
  }
 ],
 "metadata": {
  "kernelspec": {
   "display_name": "Python 3 (ipykernel)",
   "language": "python",
   "name": "python3"
  },
  "language_info": {
   "codemirror_mode": {
    "name": "ipython",
    "version": 3
   },
   "file_extension": ".py",
   "mimetype": "text/x-python",
   "name": "python",
   "nbconvert_exporter": "python",
   "pygments_lexer": "ipython3",
   "version": "3.11.5"
  }
 },
 "nbformat": 4,
 "nbformat_minor": 5
}
