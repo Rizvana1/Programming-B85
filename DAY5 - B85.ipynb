{
 "cells": [
  {
   "cell_type": "code",
   "execution_count": 14,
   "id": "5d611ebf",
   "metadata": {},
   "outputs": [
    {
     "name": "stdout",
     "output_type": "stream",
     "text": [
      "['rose', 'jasmine', 'sunflower', 'lilly', 'chameli', 'whiterose', 'datura']\n",
      "['chameli', 'datura', 'jasmine', 'lilly', 'rose', 'sunflower', 'whiterose']\n",
      "['rose', 'jasmine', 'sunflower', 'lilly', 'chameli', 'whiterose', 'datura']\n",
      "['chameli', 'datura', 'jasmine', 'lilly', 'rose', 'sunflower', 'whiterose']\n",
      "['whiterose', 'sunflower', 'rose', 'lilly', 'jasmine', 'datura', 'chameli']\n",
      "['whiterose', 'sunflower', 'rose']\n",
      "7\n",
      "['whiterose', 'rose', 'jasmine']\n"
     ]
    }
   ],
   "source": [
    "flowers=['rose','jasmine','sunflower','lilly','chameli','whiterose','datura']\n",
    "print(flowers)\n",
    "print(sorted(flowers))\n",
    "print(flowers)\n",
    "flowers.sort()\n",
    "print(flowers)\n",
    "flowers.reverse()\n",
    "print(flowers)\n",
    "print(flowers[0:3])\n",
    "print(len(flowers))\n",
    "print(flowers[0:6:2])"
   ]
  },
  {
   "cell_type": "code",
   "execution_count": 22,
   "id": "261cb138",
   "metadata": {},
   "outputs": [
    {
     "name": "stdout",
     "output_type": "stream",
     "text": [
      "9\n",
      "['a', 'c', 'l', 'p']\n"
     ]
    }
   ],
   "source": [
    "alphabets=['a','b','c','f','l','e','p','d','y']\n",
    "print(len(alphabets))\n",
    "print(alphabets[0:8:2])"
   ]
  },
  {
   "cell_type": "code",
   "execution_count": null,
   "id": "75bc15d1",
   "metadata": {},
   "outputs": [],
   "source": []
  },
  {
   "cell_type": "code",
   "execution_count": null,
   "id": "30e079e3",
   "metadata": {},
   "outputs": [],
   "source": []
  },
  {
   "cell_type": "code",
   "execution_count": null,
   "id": "d7d053b6",
   "metadata": {},
   "outputs": [],
   "source": []
  }
 ],
 "metadata": {
  "kernelspec": {
   "display_name": "Python 3 (ipykernel)",
   "language": "python",
   "name": "python3"
  },
  "language_info": {
   "codemirror_mode": {
    "name": "ipython",
    "version": 3
   },
   "file_extension": ".py",
   "mimetype": "text/x-python",
   "name": "python",
   "nbconvert_exporter": "python",
   "pygments_lexer": "ipython3",
   "version": "3.11.5"
  }
 },
 "nbformat": 4,
 "nbformat_minor": 5
}
